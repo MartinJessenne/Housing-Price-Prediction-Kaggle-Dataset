{
 "cells": [
  {
   "cell_type": "code",
   "execution_count": 2,
   "id": "f2b75154-efed-4dd2-950a-764e1cac0ac1",
   "metadata": {},
   "outputs": [],
   "source": [
    "import pandas as pd\n",
    "import numpy as np\n",
    "import re\n",
    "\n",
    "import warnings\n",
    "warnings.filterwarnings(\"ignore\")\n",
    "\n",
    "from ydata_profiling import ProfileReport"
   ]
  },
  {
   "cell_type": "code",
   "execution_count": 3,
   "id": "ad7d023b-084e-452b-8261-88884efc4b4a",
   "metadata": {},
   "outputs": [],
   "source": [
    "df = pd.read_csv('Spanish Housing/spanish_houses.csv')"
   ]
  },
  {
   "cell_type": "code",
   "execution_count": 4,
   "id": "b738e546-81fd-4e84-b0ff-1d0585497499",
   "metadata": {},
   "outputs": [],
   "source": [
    "# We are dropping all columns linked with description as we are not doing sentiment analysis here\n",
    "# We are also dropping columns which are not intrinsecally linked with the property in itself\n",
    "# We are also dropping columns like renta_media_prow as we are going to try to data scrap them by ourselves\n",
    "# We are also dropping floor and garage columns since it will be too hard to deal with\n",
    "\n",
    "df.drop(columns=[\"ad_description\",\"ad_last_update\",\"number_of_companies_prov\",\"population_prov\",\"companies_prov_vs_national_%\",\"population_prov_vs_national_%\",\"renta_media_prov\", \"floor\", \"garage\"],axis=1, inplace=True)"
   ]
  },
  {
   "cell_type": "code",
   "execution_count": 5,
   "id": "b72cc9a9-3aa4-4157-a50b-fed864a67b6a",
   "metadata": {},
   "outputs": [
    {
     "data": {
      "text/plain": [
       "['norte, sur, este, oeste',\n",
       " nan,\n",
       " 'sur, oeste',\n",
       " 'sur',\n",
       " 'sur, este',\n",
       " 'este',\n",
       " 'oeste',\n",
       " 'norte, sur, oeste',\n",
       " 'norte, este, oeste',\n",
       " 'norte, sur, este',\n",
       " 'norte',\n",
       " 'este, oeste',\n",
       " 'norte, oeste',\n",
       " 'norte, sur',\n",
       " 'sur, este, oeste',\n",
       " 'norte, este',\n",
       " 'orientation']"
      ]
     },
     "execution_count": 5,
     "metadata": {},
     "output_type": "execute_result"
    }
   ],
   "source": [
    "df[\"orientation\"].unique().tolist()"
   ]
  },
  {
   "cell_type": "code",
   "execution_count": 31,
   "id": "ccc2d161-f8d4-4eb9-b32d-be01608ddc82",
   "metadata": {},
   "outputs": [
    {
     "name": "stdout",
     "output_type": "stream",
     "text": [
      "part des toutes nouvelles : 2.559\n",
      "part des nouvelles : 72.272\n",
      "part des à rénover : 11.045\n"
     ]
    }
   ],
   "source": [
    "row_mask_toutes_nouvelles = (df[\"condition\"] == 'promoción de obra nueva')\n",
    "row_mask_nouvelles = (df[\"condition\"] == 'segunda mano/buen estado')\n",
    "row_mask_rénovation = df[\"condition\"] == 'segunda mano/para reformar'\n",
    "\n",
    "print(\"part des toutes nouvelles :\",row_mask_toutes_nouvelles.sum()/len(df[\"condition\"])*100)\n",
    "print(\"part des nouvelles :\", row_mask_nouvelles.sum()/len(df[\"condition\"])*100)\n",
    "print(\"part des à rénover :\",row_mask_rénovation.sum()/len(df[\"condition\"])*100)\n",
    "#len(df.loc[row_mask,\"energetic_certif\"])"
   ]
  },
  {
   "cell_type": "code",
   "execution_count": null,
   "id": "d9ada7be-01a6-400a-a188-4d04c9d32b38",
   "metadata": {},
   "outputs": [],
   "source": []
  }
 ],
 "metadata": {
  "kernelspec": {
   "display_name": "Python 3 (ipykernel)",
   "language": "python",
   "name": "python3"
  },
  "language_info": {
   "codemirror_mode": {
    "name": "ipython",
    "version": 3
   },
   "file_extension": ".py",
   "mimetype": "text/x-python",
   "name": "python",
   "nbconvert_exporter": "python",
   "pygments_lexer": "ipython3",
   "version": "3.11.5"
  }
 },
 "nbformat": 4,
 "nbformat_minor": 5
}
